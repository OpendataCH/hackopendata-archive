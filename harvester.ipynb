{
 "cells": [
  {
   "cell_type": "markdown",
   "id": "4f7fc905-21ca-4c34-8766-1c1ad4c6f15c",
   "metadata": {},
   "source": [
    "# Harvest all your hacks\n",
    "\n",
    "A Python 3 script which collects projects from a Dribdat instance. Just put in the URL of a server, and it will talk to the public API to collect the content.\n",
    "\n",
    "No special dependencies required, though you might need to `pip install requests`"
   ]
  },
  {
   "cell_type": "code",
   "execution_count": 1,
   "id": "3a0e9c4c-5afe-4500-82ae-c56106d9f00c",
   "metadata": {},
   "outputs": [],
   "source": [
    "import csv, json, requests\n",
    "\n",
    "URL_DRIBDAT = 'https://hack.opendata.ch'\n",
    "OUTPUT_PROJECTS = 'data/hackopendata-projects.csv'\n",
    "OUTPUT_EVENTS = 'data/hackopendata-events.csv'\n",
    "MAX_PROJECTS = 100000"
   ]
  },
  {
   "cell_type": "markdown",
   "id": "60744e83-51c2-43f6-8132-3be89646235e",
   "metadata": {},
   "source": [
    "Get the complete list of events on the server defined above"
   ]
  },
  {
   "cell_type": "code",
   "execution_count": 2,
   "id": "cc47b48e-dac3-46dc-95ea-0df1c643ac7e",
   "metadata": {},
   "outputs": [
    {
     "data": {
      "text/plain": [
       "45"
      ]
     },
     "execution_count": 2,
     "metadata": {},
     "output_type": "execute_result"
    }
   ],
   "source": [
    "events_data = requests.get(URL_DRIBDAT + '/api/events.json').json()\n",
    "events = events_data['events']\n",
    "len(events)"
   ]
  },
  {
   "cell_type": "markdown",
   "id": "583d4cea-537d-4034-bb87-61c45bd97c13",
   "metadata": {},
   "source": [
    "Collect project data from each event"
   ]
  },
  {
   "cell_type": "code",
   "execution_count": 3,
   "id": "922da54d-d64b-467b-82b3-9f95c1398f0e",
   "metadata": {},
   "outputs": [
    {
     "data": {
      "text/plain": [
       "676"
      ]
     },
     "execution_count": 3,
     "metadata": {},
     "output_type": "execute_result"
    }
   ],
   "source": [
    "count_total = 0\n",
    "project_data = {}\n",
    "for event in events:\n",
    "    urlapi = URL_DRIBDAT + \"/api/event/%d/projects.json\" % event['id']\n",
    "    proj_data = requests.get(urlapi).json()\n",
    "    if 'projects' in proj_data:\n",
    "        project_data[event['id']] = proj_data['projects']\n",
    "        count_total = count_total + len(proj_data['projects'])\n",
    "    else:\n",
    "        project_data[event['id']] = []\n",
    "        print('No data for event %d' % event['id'])\n",
    "    if count_total > MAX_PROJECTS: break\n",
    "count_total"
   ]
  },
  {
   "cell_type": "markdown",
   "id": "59c420ad-18d5-4aca-87cd-a6a5323a2298",
   "metadata": {},
   "source": [
    "Load in the metadata schema from the Data Package"
   ]
  },
  {
   "cell_type": "code",
   "execution_count": 10,
   "id": "e2dfbb28-b1de-4bc4-b23a-21248d7ca503",
   "metadata": {},
   "outputs": [
    {
     "data": {
      "text/plain": [
       "'community_url,ends_at,gallery_url,has_finished,has_started,hashtags,hostname,id,location,location_lat,location_lon,logo_url,name,starts_at,summary,webpage_url'"
      ]
     },
     "execution_count": 10,
     "metadata": {},
     "output_type": "execute_result"
    }
   ],
   "source": [
    "projcols = eventcols = None\n",
    "with open('datapackage.json') as f:\n",
    "    for res in json.load(f)['resources']:\n",
    "        if 'events' in res['name']:\n",
    "            eventcols = [ f['name'] for f in res['schema']['fields'] ]\n",
    "        if 'projects' in res['name']:\n",
    "            projcols = [ f['name'] for f in res['schema']['fields'] ]\n",
    "','.join(eventcols)"
   ]
  },
  {
   "cell_type": "code",
   "execution_count": 6,
   "id": "41f67d7a-5e25-4234-b10c-eecd0cd270bc",
   "metadata": {},
   "outputs": [
    {
     "data": {
      "text/plain": [
       "'Wrote data/events.csv'"
      ]
     },
     "execution_count": 6,
     "metadata": {},
     "output_type": "execute_result"
    }
   ],
   "source": [
    "with open(OUTPUT_EVENTS, \"w\") as f:\n",
    "    cw = csv.DictWriter(f, eventcols, delimiter=',')\n",
    "    cw.writeheader()\n",
    "    cw.writerows(events)\n",
    "\"Wrote %s\" % OUTPUT_EVENTS"
   ]
  },
  {
   "cell_type": "code",
   "execution_count": 4,
   "id": "a02d5c98-c761-443c-bb6f-eb08391cbbbf",
   "metadata": {},
   "outputs": [
    {
     "data": {
      "text/plain": [
       "676"
      ]
     },
     "execution_count": 4,
     "metadata": {},
     "output_type": "execute_result"
    }
   ],
   "source": [
    "all_projects = []\n",
    "for pd in project_data:\n",
    "    for proj in project_data[pd]:\n",
    "        all_projects.append(proj)\n",
    "len(all_projects)"
   ]
  },
  {
   "cell_type": "code",
   "execution_count": 11,
   "id": "b4317c5f-12ec-4ff2-9b4c-dcb77e3baea4",
   "metadata": {},
   "outputs": [
    {
     "data": {
      "text/plain": [
       "'Wrote data/projects.csv'"
      ]
     },
     "execution_count": 11,
     "metadata": {},
     "output_type": "execute_result"
    }
   ],
   "source": [
    "with open(OUTPUT_PROJECTS, \"w\") as f:\n",
    "    cw = csv.DictWriter(f, projcols, delimiter=',')\n",
    "    cw.writeheader()\n",
    "    cw.writerows(all_projects)\n",
    "\"Wrote %s\" % OUTPUT_PROJECTS"
   ]
  },
  {
   "cell_type": "markdown",
   "id": "0f4208cb-2c78-4239-a405-da87f5efa4f7",
   "metadata": {},
   "source": [
    "![](https://external-content.duckduckgo.com/iu/?u=https%3A%2F%2Fvignette3.wikia.nocookie.net%2Fffxiv-new%2Fimages%2F8%2F84%2FAll-your-base-are-belong-to-us-o.gif%2Frevision%2Flatest%3Fcb%3D20150609194420&f=1&nofb=1&ipt=60df4e7eac07ffec69db0105e478dd729caa15d4b7a30bbbb05bded32256a168&ipo=images)"
   ]
  }
 ],
 "metadata": {
  "kernelspec": {
   "display_name": "Python 3 (ipykernel)",
   "language": "python",
   "name": "python3"
  },
  "language_info": {
   "codemirror_mode": {
    "name": "ipython",
    "version": 3
   },
   "file_extension": ".py",
   "mimetype": "text/x-python",
   "name": "python",
   "nbconvert_exporter": "python",
   "pygments_lexer": "ipython3",
   "version": "3.12.3"
  }
 },
 "nbformat": 4,
 "nbformat_minor": 5
}
